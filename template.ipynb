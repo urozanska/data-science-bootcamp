{
  "nbformat": 4,
  "nbformat_minor": 0,
  "metadata": {
    "colab": {
      "provenance": [],
      "include_colab_link": true
    },
    "kernelspec": {
      "name": "python3",
      "display_name": "Python 3"
    },
    "language_info": {
      "name": "python"
    }
  },
  "cells": [
    {
      "cell_type": "markdown",
      "metadata": {
        "id": "view-in-github",
        "colab_type": "text"
      },
      "source": [
        "<a href=\"https://colab.research.google.com/github/urozanska/data-science-bootcamp/blob/main/template.ipynb\" target=\"_parent\"><img src=\"https://colab.research.google.com/assets/colab-badge.svg\" alt=\"Open In Colab\"/></a>"
      ]
    },
    {
      "cell_type": "code",
      "execution_count": null,
      "metadata": {
        "colab": {
          "base_uri": "https://localhost:8080/"
        },
        "id": "0Y5gl74z0pov",
        "outputId": "1d5c1ddc-3db9-4317-aa09-16066001d73c"
      },
      "outputs": [
        {
          "output_type": "stream",
          "name": "stdout",
          "text": [
            "Hello collab\n"
          ]
        }
      ],
      "source": [
        "print(\"Hello collab\")#połącz ze środowiskiem uruchomieniowym -> shift enter -> potem tez mozna #file, save a copy in github"
      ]
    },
    {
      "cell_type": "code",
      "source": [
        "#numpy.org - strona biblioteki numpy\n",
        "#numpy.org/doc - dokumentacja\n",
        "#01_wprowadzenie/01_numpy_intro.ipynb\n",
        "import numpy as np\n",
        "np.__version__"
      ],
      "metadata": {
        "id": "0kPzXj0T02Yu",
        "outputId": "dba048ef-2169-48ad-8c86-f6929676ca88",
        "colab": {
          "base_uri": "https://localhost:8080/",
          "height": 35
        }
      },
      "execution_count": 3,
      "outputs": [
        {
          "output_type": "execute_result",
          "data": {
            "text/plain": [
              "'1.21.6'"
            ],
            "application/vnd.google.colaboratory.intrinsic+json": {
              "type": "string"
            }
          },
          "metadata": {},
          "execution_count": 3
        }
      ]
    },
    {
      "cell_type": "code",
      "source": [
        "print(dir(np)) #jakie mamy klasy metody atrybuty w tej bibliotece\n",
        "#jak zapisujemy plik na gicie, to zapisują się razem z wynikami - wynik wywołania tej funkcji zajmuje dużo miejsca więc po wywołaniu i zobaczeniu mozna go zamknąć X-em który pojawia się po lewej stronie od Out-u"
      ],
      "metadata": {
        "id": "4CBwDkR-5G9K"
      },
      "execution_count": null,
      "outputs": []
    },
    {
      "cell_type": "code",
      "source": [
        "help(np.array)#wyświetlenie pomocy nt funkcji array - PODSTAWOWA FUNCKJA\n",
        "#funkcja tworzy tablice - help wyświetla nam co możemy podać i też przykłady"
      ],
      "metadata": {
        "id": "ev5MAXUn5yeH"
      },
      "execution_count": null,
      "outputs": []
    },
    {
      "cell_type": "markdown",
      "source": [],
      "metadata": {
        "id": "we2XRx4c6q83"
      }
    },
    {
      "cell_type": "markdown",
      "source": [
        "podstawowym opiektem b. numpy jest wielowymiarowa tablica. Cechą charakterystyczną jest jednorodnosc elementow - muszą być tego samego typu\n",
        "wymiary są nazwyane osiami  - mowimy axes\n",
        "klasa - ndarray"
      ],
      "metadata": {
        "id": "NJb6OVs86tYI"
      }
    },
    {
      "cell_type": "code",
      "source": [
        "x = np.array([1, 3]) #tablica jenowymiarowa z elementami 1,3/ inaczej wektor lub punkt w przestrzeni R2\n",
        "#w środku podana lista czyli troche tablice tworzymy podając liste\n",
        "x"
      ],
      "metadata": {
        "id": "OzSRF8kU7LHO",
        "outputId": "19a28f02-9afa-4e32-f15f-736477aa9a71",
        "colab": {
          "base_uri": "https://localhost:8080/"
        }
      },
      "execution_count": 6,
      "outputs": [
        {
          "output_type": "execute_result",
          "data": {
            "text/plain": [
              "array([1, 3])"
            ]
          },
          "metadata": {},
          "execution_count": 6
        }
      ]
    },
    {
      "cell_type": "code",
      "source": [
        "print(x)"
      ],
      "metadata": {
        "id": "K9soUNuY7YPA",
        "outputId": "9bcb8023-c290-4d32-8ac2-36579c21eb31",
        "colab": {
          "base_uri": "https://localhost:8080/"
        }
      },
      "execution_count": 7,
      "outputs": [
        {
          "output_type": "stream",
          "name": "stdout",
          "text": [
            "[1 3]\n"
          ]
        }
      ]
    },
    {
      "cell_type": "code",
      "source": [
        "type(x)#wyświetli typ"
      ],
      "metadata": {
        "id": "7JqahWRD7auK",
        "outputId": "419203bc-6d4a-4471-adb4-0431a6e94323",
        "colab": {
          "base_uri": "https://localhost:8080/"
        }
      },
      "execution_count": 8,
      "outputs": [
        {
          "output_type": "execute_result",
          "data": {
            "text/plain": [
              "numpy.ndarray"
            ]
          },
          "metadata": {},
          "execution_count": 8
        }
      ]
    },
    {
      "cell_type": "code",
      "source": [
        "x.ndim #wymiar - ta tablica ma wymiar 1 - 1 wiersz"
      ],
      "metadata": {
        "id": "gqjBfoJh7nw7",
        "outputId": "c2b0deb8-48cb-4a0b-b7cf-66af28085cdd",
        "colab": {
          "base_uri": "https://localhost:8080/"
        }
      },
      "execution_count": 9,
      "outputs": [
        {
          "output_type": "execute_result",
          "data": {
            "text/plain": [
              "1"
            ]
          },
          "metadata": {},
          "execution_count": 9
        }
      ]
    },
    {
      "cell_type": "code",
      "source": [
        "x.shape #CZESTO #wyświetli (2,) bo mamy 2 elementy - jest to jako tupla "
      ],
      "metadata": {
        "id": "9LZyGYj97rdm",
        "outputId": "d454fe73-2a7d-4e0f-f5d5-55a54fc5adca",
        "colab": {
          "base_uri": "https://localhost:8080/"
        }
      },
      "execution_count": 10,
      "outputs": [
        {
          "output_type": "execute_result",
          "data": {
            "text/plain": [
              "(2,)"
            ]
          },
          "metadata": {},
          "execution_count": 10
        }
      ]
    },
    {
      "cell_type": "code",
      "source": [
        "x.size #liczba elementów tablicy"
      ],
      "metadata": {
        "id": "CC_7cdlm8Bhc",
        "outputId": "75d9d216-6b6b-462c-f801-1db9a7166a5d",
        "colab": {
          "base_uri": "https://localhost:8080/"
        }
      },
      "execution_count": 11,
      "outputs": [
        {
          "output_type": "execute_result",
          "data": {
            "text/plain": [
              "2"
            ]
          },
          "metadata": {},
          "execution_count": 11
        }
      ]
    },
    {
      "cell_type": "code",
      "source": [
        "x.dtype #CZESTO - atrybut ktory okresla typ naszych danych - iliczba calkowita 64bitowa"
      ],
      "metadata": {
        "id": "IWGxx0BT8Huo",
        "outputId": "a1eab347-bcbf-4412-ba9b-bd43bee7eefa",
        "colab": {
          "base_uri": "https://localhost:8080/"
        }
      },
      "execution_count": 12,
      "outputs": [
        {
          "output_type": "execute_result",
          "data": {
            "text/plain": [
              "dtype('int64')"
            ]
          },
          "metadata": {},
          "execution_count": 12
        }
      ]
    },
    {
      "cell_type": "code",
      "source": [
        "x = np.array([1.3, 2.3, 1.4])\n",
        "print(x)\n",
        "x.dtype\n",
        "x.shape"
      ],
      "metadata": {
        "id": "s5-wfsbQ8VDJ",
        "outputId": "20e7753f-25e0-44a1-e95b-30784b8db739",
        "colab": {
          "base_uri": "https://localhost:8080/"
        }
      },
      "execution_count": 13,
      "outputs": [
        {
          "output_type": "stream",
          "name": "stdout",
          "text": [
            "[1.3 2.3 1.4]\n"
          ]
        },
        {
          "output_type": "execute_result",
          "data": {
            "text/plain": [
              "(3,)"
            ]
          },
          "metadata": {},
          "execution_count": 13
        }
      ]
    },
    {
      "cell_type": "code",
      "source": [
        "x.dtype\n"
      ],
      "metadata": {
        "id": "IrXesWEy8kuw",
        "outputId": "ca03148d-0897-4187-d1b8-79d2526b2bf6",
        "colab": {
          "base_uri": "https://localhost:8080/"
        }
      },
      "execution_count": 14,
      "outputs": [
        {
          "output_type": "execute_result",
          "data": {
            "text/plain": [
              "dtype('float64')"
            ]
          },
          "metadata": {},
          "execution_count": 14
        }
      ]
    },
    {
      "cell_type": "markdown",
      "source": [
        "### 2D ARRAY"
      ],
      "metadata": {
        "id": "m_jX4Huv8oc_"
      }
    },
    {
      "cell_type": "markdown",
      "source": [],
      "metadata": {
        "id": "uBNWm8Ao8rB3"
      }
    },
    {
      "cell_type": "code",
      "source": [
        "x = np.array([[1,2],[-3,1]]) #tablica 2wymiarowa"
      ],
      "metadata": {
        "id": "DZ7ZtE4Z8rt8"
      },
      "execution_count": 17,
      "outputs": []
    },
    {
      "cell_type": "code",
      "source": [
        "x.ndim"
      ],
      "metadata": {
        "id": "-Pjfph-y819s",
        "outputId": "35e74edd-45ee-4c70-fc14-7d3f489745ea",
        "colab": {
          "base_uri": "https://localhost:8080/"
        }
      },
      "execution_count": 18,
      "outputs": [
        {
          "output_type": "execute_result",
          "data": {
            "text/plain": [
              "2"
            ]
          },
          "metadata": {},
          "execution_count": 18
        }
      ]
    },
    {
      "cell_type": "code",
      "source": [
        "x.shape #umiejętnosc operowania na wymiarach macierzy jest bardzo wazna gdybym chciała implementowac siec neuonową w bibliotece numpy - można i jest to wiele operacji na dodawaniu ojejmowaniu itd macerzcy"
      ],
      "metadata": {
        "id": "PPhkh_pi83uj",
        "outputId": "89b52f4c-8ebb-464e-a12d-28fa0bbea089",
        "colab": {
          "base_uri": "https://localhost:8080/"
        }
      },
      "execution_count": 19,
      "outputs": [
        {
          "output_type": "execute_result",
          "data": {
            "text/plain": [
              "(2, 2)"
            ]
          },
          "metadata": {},
          "execution_count": 19
        }
      ]
    },
    {
      "cell_type": "code",
      "source": [
        "x.dtype"
      ],
      "metadata": {
        "id": "AgezhsdE860V",
        "outputId": "325275e6-70b7-4754-c598-8322e06ecd73",
        "colab": {
          "base_uri": "https://localhost:8080/"
        }
      },
      "execution_count": 20,
      "outputs": [
        {
          "output_type": "execute_result",
          "data": {
            "text/plain": [
              "dtype('int64')"
            ]
          },
          "metadata": {},
          "execution_count": 20
        }
      ]
    },
    {
      "cell_type": "code",
      "source": [
        "x = np.array([[1,2,4],[4,2,1]])\n",
        "print(x)"
      ],
      "metadata": {
        "id": "rU4bd_PA9SvB",
        "outputId": "64ec9e19-ef9d-4371-c6fb-3689e37b25a2",
        "colab": {
          "base_uri": "https://localhost:8080/"
        }
      },
      "execution_count": 22,
      "outputs": [
        {
          "output_type": "stream",
          "name": "stdout",
          "text": [
            "[[1 2 4]\n",
            " [4 2 1]]\n"
          ]
        }
      ]
    },
    {
      "cell_type": "code",
      "source": [
        "x.shape"
      ],
      "metadata": {
        "id": "oYXQfw8A9ear",
        "outputId": "17ba7316-66a2-42f0-93f2-148559786118",
        "colab": {
          "base_uri": "https://localhost:8080/"
        }
      },
      "execution_count": 23,
      "outputs": [
        {
          "output_type": "execute_result",
          "data": {
            "text/plain": [
              "(2, 3)"
            ]
          },
          "metadata": {},
          "execution_count": 23
        }
      ]
    },
    {
      "cell_type": "markdown",
      "source": [],
      "metadata": {
        "id": "ieOABCUf7KwG"
      }
    }
  ]
}