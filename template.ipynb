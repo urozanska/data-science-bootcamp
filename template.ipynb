{
  "nbformat": 4,
  "nbformat_minor": 0,
  "metadata": {
    "colab": {
      "provenance": [],
      "include_colab_link": true
    },
    "kernelspec": {
      "name": "python3",
      "display_name": "Python 3"
    },
    "language_info": {
      "name": "python"
    }
  },
  "cells": [
    {
      "cell_type": "markdown",
      "metadata": {
        "id": "view-in-github",
        "colab_type": "text"
      },
      "source": [
        "<a href=\"https://colab.research.google.com/github/urozanska/data-science-bootcamp/blob/main/template.ipynb\" target=\"_parent\"><img src=\"https://colab.research.google.com/assets/colab-badge.svg\" alt=\"Open In Colab\"/></a>"
      ]
    },
    {
      "cell_type": "code",
      "execution_count": null,
      "metadata": {
        "colab": {
          "base_uri": "https://localhost:8080/"
        },
        "id": "0Y5gl74z0pov",
        "outputId": "1d5c1ddc-3db9-4317-aa09-16066001d73c"
      },
      "outputs": [
        {
          "output_type": "stream",
          "name": "stdout",
          "text": [
            "Hello collab\n"
          ]
        }
      ],
      "source": [
        "print(\"Hello collab\")#połącz ze środowiskiem uruchomieniowym -> shift enter -> potem tez mozna #file, save a copy in github"
      ]
    },
    {
      "cell_type": "code",
      "source": [
        "#numpy.org - strona biblioteki numpy\n",
        "#numpy.org/doc - dokumentacja\n",
        "#01_wprowadzenie/01_numpy_intro.ipynb\n",
        "import numpy as np\n",
        "np.__version__"
      ],
      "metadata": {
        "id": "0kPzXj0T02Yu",
        "outputId": "5eb18787-b20c-4755-b4bf-d7df168894cd",
        "colab": {
          "base_uri": "https://localhost:8080/",
          "height": 35
        }
      },
      "execution_count": 2,
      "outputs": [
        {
          "output_type": "execute_result",
          "data": {
            "text/plain": [
              "'1.21.6'"
            ],
            "application/vnd.google.colaboratory.intrinsic+json": {
              "type": "string"
            }
          },
          "metadata": {},
          "execution_count": 2
        }
      ]
    },
    {
      "cell_type": "code",
      "source": [
        "print(dir(np)) #jakie mamy klasy metody atrybuty w tej bibliotece\n",
        "#jak zapisujemy plik na gicie, to zapisują się razem z wynikami - wynik wywołania tej funkcji zajmuje dużo miejsca więc po wywołaniu i zobaczeniu mozna go zamknąć X-em który pojawia się po lewej stronie od Out-u"
      ],
      "metadata": {
        "id": "4CBwDkR-5G9K"
      },
      "execution_count": null,
      "outputs": []
    },
    {
      "cell_type": "code",
      "source": [
        "help(np.array)#wyświetlenie pomocy nt funkcji array - PODSTAWOWA FUNCKJA\n",
        "#funkcja tworzy tablice - help wyświetla nam co możemy podać i też przykłady"
      ],
      "metadata": {
        "id": "ev5MAXUn5yeH"
      },
      "execution_count": null,
      "outputs": []
    },
    {
      "cell_type": "markdown",
      "source": [],
      "metadata": {
        "id": "we2XRx4c6q83"
      }
    },
    {
      "cell_type": "markdown",
      "source": [
        "podstawowym opiektem b. numpy jest wielowymiarowa tablica. Cechą charakterystyczną jest jednorodnosc elementow - muszą być tego samego typu\n",
        "wymiary są nazwyane osiami  - mowimy axes\n",
        "klasa - ndarray"
      ],
      "metadata": {
        "id": "NJb6OVs86tYI"
      }
    },
    {
      "cell_type": "code",
      "source": [
        "x = np.array([1, 3]) #tablica jenowymiarowa z elementami 1,3/ inaczej wektor lub punkt w przestrzeni R2\n",
        "#w środku podana lista czyli troche tablice tworzymy podając liste\n",
        "x"
      ],
      "metadata": {
        "id": "OzSRF8kU7LHO",
        "outputId": "19a28f02-9afa-4e32-f15f-736477aa9a71",
        "colab": {
          "base_uri": "https://localhost:8080/"
        }
      },
      "execution_count": null,
      "outputs": [
        {
          "output_type": "execute_result",
          "data": {
            "text/plain": [
              "array([1, 3])"
            ]
          },
          "metadata": {},
          "execution_count": 6
        }
      ]
    },
    {
      "cell_type": "code",
      "source": [
        "print(x)"
      ],
      "metadata": {
        "id": "K9soUNuY7YPA",
        "outputId": "9bcb8023-c290-4d32-8ac2-36579c21eb31",
        "colab": {
          "base_uri": "https://localhost:8080/"
        }
      },
      "execution_count": null,
      "outputs": [
        {
          "output_type": "stream",
          "name": "stdout",
          "text": [
            "[1 3]\n"
          ]
        }
      ]
    },
    {
      "cell_type": "code",
      "source": [
        "type(x)#wyświetli typ"
      ],
      "metadata": {
        "id": "7JqahWRD7auK",
        "outputId": "419203bc-6d4a-4471-adb4-0431a6e94323",
        "colab": {
          "base_uri": "https://localhost:8080/"
        }
      },
      "execution_count": null,
      "outputs": [
        {
          "output_type": "execute_result",
          "data": {
            "text/plain": [
              "numpy.ndarray"
            ]
          },
          "metadata": {},
          "execution_count": 8
        }
      ]
    },
    {
      "cell_type": "code",
      "source": [
        "x.ndim #wymiar - ta tablica ma wymiar 1 - 1 wiersz"
      ],
      "metadata": {
        "id": "gqjBfoJh7nw7",
        "outputId": "c2b0deb8-48cb-4a0b-b7cf-66af28085cdd",
        "colab": {
          "base_uri": "https://localhost:8080/"
        }
      },
      "execution_count": null,
      "outputs": [
        {
          "output_type": "execute_result",
          "data": {
            "text/plain": [
              "1"
            ]
          },
          "metadata": {},
          "execution_count": 9
        }
      ]
    },
    {
      "cell_type": "code",
      "source": [
        "x.shape #CZESTO #wyświetli (2,) bo mamy 2 elementy - jest to jako tupla "
      ],
      "metadata": {
        "id": "9LZyGYj97rdm",
        "outputId": "d454fe73-2a7d-4e0f-f5d5-55a54fc5adca",
        "colab": {
          "base_uri": "https://localhost:8080/"
        }
      },
      "execution_count": null,
      "outputs": [
        {
          "output_type": "execute_result",
          "data": {
            "text/plain": [
              "(2,)"
            ]
          },
          "metadata": {},
          "execution_count": 10
        }
      ]
    },
    {
      "cell_type": "code",
      "source": [
        "x.size #liczba elementów tablicy"
      ],
      "metadata": {
        "id": "CC_7cdlm8Bhc",
        "outputId": "75d9d216-6b6b-462c-f801-1db9a7166a5d",
        "colab": {
          "base_uri": "https://localhost:8080/"
        }
      },
      "execution_count": null,
      "outputs": [
        {
          "output_type": "execute_result",
          "data": {
            "text/plain": [
              "2"
            ]
          },
          "metadata": {},
          "execution_count": 11
        }
      ]
    },
    {
      "cell_type": "code",
      "source": [
        "x.dtype #CZESTO - atrybut ktory okresla typ naszych danych - iliczba calkowita 64bitowa"
      ],
      "metadata": {
        "id": "IWGxx0BT8Huo",
        "outputId": "a1eab347-bcbf-4412-ba9b-bd43bee7eefa",
        "colab": {
          "base_uri": "https://localhost:8080/"
        }
      },
      "execution_count": null,
      "outputs": [
        {
          "output_type": "execute_result",
          "data": {
            "text/plain": [
              "dtype('int64')"
            ]
          },
          "metadata": {},
          "execution_count": 12
        }
      ]
    },
    {
      "cell_type": "code",
      "source": [
        "x = np.array([1.3, 2.3, 1.4])\n",
        "print(x)\n",
        "x.dtype\n",
        "x.shape"
      ],
      "metadata": {
        "id": "s5-wfsbQ8VDJ",
        "outputId": "20e7753f-25e0-44a1-e95b-30784b8db739",
        "colab": {
          "base_uri": "https://localhost:8080/"
        }
      },
      "execution_count": null,
      "outputs": [
        {
          "output_type": "stream",
          "name": "stdout",
          "text": [
            "[1.3 2.3 1.4]\n"
          ]
        },
        {
          "output_type": "execute_result",
          "data": {
            "text/plain": [
              "(3,)"
            ]
          },
          "metadata": {},
          "execution_count": 13
        }
      ]
    },
    {
      "cell_type": "code",
      "source": [
        "x.dtype\n"
      ],
      "metadata": {
        "id": "IrXesWEy8kuw",
        "outputId": "ca03148d-0897-4187-d1b8-79d2526b2bf6",
        "colab": {
          "base_uri": "https://localhost:8080/"
        }
      },
      "execution_count": null,
      "outputs": [
        {
          "output_type": "execute_result",
          "data": {
            "text/plain": [
              "dtype('float64')"
            ]
          },
          "metadata": {},
          "execution_count": 14
        }
      ]
    },
    {
      "cell_type": "markdown",
      "source": [
        "### 2D ARRAY"
      ],
      "metadata": {
        "id": "m_jX4Huv8oc_"
      }
    },
    {
      "cell_type": "markdown",
      "source": [],
      "metadata": {
        "id": "uBNWm8Ao8rB3"
      }
    },
    {
      "cell_type": "code",
      "source": [
        "x = np.array([[1,2],[-3,1]]) #tablica 2wymiarowa"
      ],
      "metadata": {
        "id": "DZ7ZtE4Z8rt8"
      },
      "execution_count": null,
      "outputs": []
    },
    {
      "cell_type": "code",
      "source": [
        "x.ndim"
      ],
      "metadata": {
        "id": "-Pjfph-y819s",
        "outputId": "35e74edd-45ee-4c70-fc14-7d3f489745ea",
        "colab": {
          "base_uri": "https://localhost:8080/"
        }
      },
      "execution_count": null,
      "outputs": [
        {
          "output_type": "execute_result",
          "data": {
            "text/plain": [
              "2"
            ]
          },
          "metadata": {},
          "execution_count": 18
        }
      ]
    },
    {
      "cell_type": "code",
      "source": [
        "x.shape #umiejętnosc operowania na wymiarach macierzy jest bardzo wazna gdybym chciała implementowac siec neuonową w bibliotece numpy - można i jest to wiele operacji na dodawaniu ojejmowaniu itd macerzcy"
      ],
      "metadata": {
        "id": "PPhkh_pi83uj",
        "outputId": "89b52f4c-8ebb-464e-a12d-28fa0bbea089",
        "colab": {
          "base_uri": "https://localhost:8080/"
        }
      },
      "execution_count": null,
      "outputs": [
        {
          "output_type": "execute_result",
          "data": {
            "text/plain": [
              "(2, 2)"
            ]
          },
          "metadata": {},
          "execution_count": 19
        }
      ]
    },
    {
      "cell_type": "code",
      "source": [
        "x.dtype"
      ],
      "metadata": {
        "id": "AgezhsdE860V",
        "outputId": "325275e6-70b7-4754-c598-8322e06ecd73",
        "colab": {
          "base_uri": "https://localhost:8080/"
        }
      },
      "execution_count": null,
      "outputs": [
        {
          "output_type": "execute_result",
          "data": {
            "text/plain": [
              "dtype('int64')"
            ]
          },
          "metadata": {},
          "execution_count": 20
        }
      ]
    },
    {
      "cell_type": "code",
      "source": [
        "x = np.array([[1,2,4],[4,2,1]])\n",
        "print(x)"
      ],
      "metadata": {
        "id": "rU4bd_PA9SvB",
        "outputId": "64ec9e19-ef9d-4371-c6fb-3689e37b25a2",
        "colab": {
          "base_uri": "https://localhost:8080/"
        }
      },
      "execution_count": null,
      "outputs": [
        {
          "output_type": "stream",
          "name": "stdout",
          "text": [
            "[[1 2 4]\n",
            " [4 2 1]]\n"
          ]
        }
      ]
    },
    {
      "cell_type": "code",
      "source": [
        "x.shape"
      ],
      "metadata": {
        "id": "oYXQfw8A9ear",
        "outputId": "17ba7316-66a2-42f0-93f2-148559786118",
        "colab": {
          "base_uri": "https://localhost:8080/"
        }
      },
      "execution_count": null,
      "outputs": [
        {
          "output_type": "execute_result",
          "data": {
            "text/plain": [
              "(2, 3)"
            ]
          },
          "metadata": {},
          "execution_count": 23
        }
      ]
    },
    {
      "cell_type": "markdown",
      "source": [
        "3D"
      ],
      "metadata": {
        "id": "XG45rT3b7n30"
      }
    },
    {
      "cell_type": "code",
      "source": [
        "x = np.array(\n",
        "    [[[4, 3, 1],\n",
        "      [3, 1, 2]],\n",
        "     \n",
        "     [[4, 1, 3],\n",
        "      [4, 2, 1]],\n",
        "     \n",
        "     [[3, 2, 1],\n",
        "      [4, 3, 2]]]\n",
        ")\n",
        "x\n",
        "     "
      ],
      "metadata": {
        "colab": {
          "base_uri": "https://localhost:8080/"
        },
        "id": "zME66KHP7oyM",
        "outputId": "631f5f10-8259-4e4c-b0c7-4cc4d21216ae"
      },
      "execution_count": 3,
      "outputs": [
        {
          "output_type": "execute_result",
          "data": {
            "text/plain": [
              "array([[[4, 3, 1],\n",
              "        [3, 1, 2]],\n",
              "\n",
              "       [[4, 1, 3],\n",
              "        [4, 2, 1]],\n",
              "\n",
              "       [[3, 2, 1],\n",
              "        [4, 3, 2]]])"
            ]
          },
          "metadata": {},
          "execution_count": 3
        }
      ]
    },
    {
      "cell_type": "code",
      "source": [
        "print(x)\n"
      ],
      "metadata": {
        "colab": {
          "base_uri": "https://localhost:8080/"
        },
        "id": "ccgze6w4753g",
        "outputId": "2bc15776-5fe8-4be7-c84a-d8d14c859359"
      },
      "execution_count": 4,
      "outputs": [
        {
          "output_type": "stream",
          "name": "stdout",
          "text": [
            "[[[4 3 1]\n",
            "  [3 1 2]]\n",
            "\n",
            " [[4 1 3]\n",
            "  [4 2 1]]\n",
            "\n",
            " [[3 2 1]\n",
            "  [4 3 2]]]\n"
          ]
        }
      ]
    },
    {
      "cell_type": "code",
      "source": [
        "x.ndim"
      ],
      "metadata": {
        "colab": {
          "base_uri": "https://localhost:8080/"
        },
        "id": "hLSZRxgt8GB-",
        "outputId": "62b50518-814d-4bf2-b359-9420b12633e9"
      },
      "execution_count": 5,
      "outputs": [
        {
          "output_type": "execute_result",
          "data": {
            "text/plain": [
              "3"
            ]
          },
          "metadata": {},
          "execution_count": 5
        }
      ]
    },
    {
      "cell_type": "code",
      "source": [
        "x.shape #3,2,3 - 3 tablice, 2 wiersze i 3 kolumny"
      ],
      "metadata": {
        "id": "aLlgZmtV8a6j"
      },
      "execution_count": null,
      "outputs": []
    },
    {
      "cell_type": "code",
      "source": [
        "A = np.array([1,2,3], dtype = 'float') #int, float, complex\n",
        "A.dtype"
      ],
      "metadata": {
        "colab": {
          "base_uri": "https://localhost:8080/"
        },
        "id": "jeAd5Ako8_4x",
        "outputId": "230b6775-71b8-4cd3-cdf4-ad42999cba52"
      },
      "execution_count": 8,
      "outputs": [
        {
          "output_type": "execute_result",
          "data": {
            "text/plain": [
              "dtype('float64')"
            ]
          },
          "metadata": {},
          "execution_count": 8
        }
      ]
    },
    {
      "cell_type": "code",
      "source": [
        "A = np.array([24, 120, 230], dtype=np.int8)#do tworzenia obrazow - tu np. wystarczy zmienna calkowita 8bitowa\n",
        "A.dtype\n",
        "     "
      ],
      "metadata": {
        "colab": {
          "base_uri": "https://localhost:8080/"
        },
        "id": "aU0wOeer9txr",
        "outputId": "a03838ac-6da2-4118-deda-4c006f474429"
      },
      "execution_count": 9,
      "outputs": [
        {
          "output_type": "execute_result",
          "data": {
            "text/plain": [
              "dtype('int8')"
            ]
          },
          "metadata": {},
          "execution_count": 9
        }
      ]
    },
    {
      "cell_type": "code",
      "source": [
        "samezera = np.zeros(shape=(4,10)) #tablica z samych zer 4 wiersze, 10 kolum, domyslmioe typ float\n",
        "print(samezera)"
      ],
      "metadata": {
        "colab": {
          "base_uri": "https://localhost:8080/"
        },
        "id": "7AwnlFQH-H_J",
        "outputId": "060ea3c3-397a-463c-eb5d-e3bddd064a7b"
      },
      "execution_count": 10,
      "outputs": [
        {
          "output_type": "stream",
          "name": "stdout",
          "text": [
            "[[0. 0. 0. 0. 0. 0. 0. 0. 0. 0.]\n",
            " [0. 0. 0. 0. 0. 0. 0. 0. 0. 0.]\n",
            " [0. 0. 0. 0. 0. 0. 0. 0. 0. 0.]\n",
            " [0. 0. 0. 0. 0. 0. 0. 0. 0. 0.]]\n"
          ]
        }
      ]
    },
    {
      "cell_type": "code",
      "source": [
        "ichoose = np.full(shape=(3,3),fill_value = 3)\n",
        "print(ichoose)"
      ],
      "metadata": {
        "colab": {
          "base_uri": "https://localhost:8080/"
        },
        "id": "fb-3emkJ-z06",
        "outputId": "244bef2a-9aab-4cb4-f419-3d0e37e35464"
      },
      "execution_count": 13,
      "outputs": [
        {
          "output_type": "stream",
          "name": "stdout",
          "text": [
            "[[3 3 3]\n",
            " [3 3 3]\n",
            " [3 3 3]]\n"
          ]
        }
      ]
    },
    {
      "cell_type": "code",
      "source": [
        "np.arange(10)"
      ],
      "metadata": {
        "id": "-Xl7K8fN_7OC",
        "outputId": "fde87ebc-e4dc-4ec5-8ae0-0614856be746",
        "colab": {
          "base_uri": "https://localhost:8080/"
        }
      },
      "execution_count": 14,
      "outputs": [
        {
          "output_type": "execute_result",
          "data": {
            "text/plain": [
              "array([0, 1, 2, 3, 4, 5, 6, 7, 8, 9])"
            ]
          },
          "metadata": {},
          "execution_count": 14
        }
      ]
    },
    {
      "cell_type": "code",
      "source": [
        "np.arange(start=5,stop=10,step=2)"
      ],
      "metadata": {
        "id": "tlUjnmiOHrFV",
        "outputId": "f2e2a994-8ecb-4aee-e654-222c40c3f9df",
        "colab": {
          "base_uri": "https://localhost:8080/"
        }
      },
      "execution_count": 16,
      "outputs": [
        {
          "output_type": "execute_result",
          "data": {
            "text/plain": [
              "array([5, 7, 9])"
            ]
          },
          "metadata": {},
          "execution_count": 16
        }
      ]
    },
    {
      "cell_type": "code",
      "source": [
        "A = np.arange(15)\n",
        "print(A)"
      ],
      "metadata": {
        "id": "BHJgygIUIoC1",
        "outputId": "ad63026f-14ae-4104-de2a-fd3b30076ea8",
        "colab": {
          "base_uri": "https://localhost:8080/"
        }
      },
      "execution_count": 18,
      "outputs": [
        {
          "output_type": "stream",
          "name": "stdout",
          "text": [
            "[ 0  1  2  3  4  5  6  7  8  9 10 11 12 13 14]\n"
          ]
        }
      ]
    },
    {
      "cell_type": "code",
      "source": [
        "A.reshape(3,-1) #zmieni kształt tablicy A - zrobi 3 wiersze,a przez to ze w liczbie kolumn podałam -1 to sam dobierze liczbe potrzbnych kolumn"
      ],
      "metadata": {
        "id": "ddUlvNEVIvX9",
        "outputId": "32b1872a-0af4-4d13-e09f-ab01032fe962",
        "colab": {
          "base_uri": "https://localhost:8080/"
        }
      },
      "execution_count": 19,
      "outputs": [
        {
          "output_type": "execute_result",
          "data": {
            "text/plain": [
              "array([[ 0,  1,  2,  3,  4],\n",
              "       [ 5,  6,  7,  8,  9],\n",
              "       [10, 11, 12, 13, 14]])"
            ]
          },
          "metadata": {},
          "execution_count": 19
        }
      ]
    },
    {
      "cell_type": "code",
      "source": [
        "A.reshape(4,-1) #błąd bo sie nie da tak ulozyc"
      ],
      "metadata": {
        "id": "LQRgTJd4I-oD",
        "outputId": "9d9f3358-a871-4fcf-a310-7c2fd46ffc4b",
        "colab": {
          "base_uri": "https://localhost:8080/",
          "height": 165
        }
      },
      "execution_count": 21,
      "outputs": [
        {
          "output_type": "error",
          "ename": "ValueError",
          "evalue": "ignored",
          "traceback": [
            "\u001b[0;31m---------------------------------------------------------------------------\u001b[0m",
            "\u001b[0;31mValueError\u001b[0m                                Traceback (most recent call last)",
            "\u001b[0;32m<ipython-input-21-c1f2a8f039e7>\u001b[0m in \u001b[0;36m<module>\u001b[0;34m\u001b[0m\n\u001b[0;32m----> 1\u001b[0;31m \u001b[0mA\u001b[0m\u001b[0;34m.\u001b[0m\u001b[0mreshape\u001b[0m\u001b[0;34m(\u001b[0m\u001b[0;36m4\u001b[0m\u001b[0;34m,\u001b[0m\u001b[0;34m-\u001b[0m\u001b[0;36m1\u001b[0m\u001b[0;34m)\u001b[0m\u001b[0;34m\u001b[0m\u001b[0;34m\u001b[0m\u001b[0m\n\u001b[0m",
            "\u001b[0;31mValueError\u001b[0m: cannot reshape array of size 15 into shape (4,newaxis)"
          ]
        }
      ]
    },
    {
      "cell_type": "markdown",
      "source": [
        "## OPERACJE NA MACIERZACH\n",
        "Normalnie np. A+B lub np.add(A,B), A-B lub np.subtract(A,b), A*B = to zwykłe mnożenie po elementac"
      ],
      "metadata": {
        "id": "HbEpduo9MVw0"
      }
    },
    {
      "cell_type": "code",
      "source": [
        "\n",
        "X = np.array([[1, 3], [-2, 0]])\n",
        "Y = np.array([[6, 0], [-1, 2]])\n",
        "print(X, '\\n')\n",
        "print(Y)\n",
        "     "
      ],
      "metadata": {
        "id": "qL7UmIe1MMKr",
        "outputId": "805d72cc-8b6d-40b3-9c2a-c52e49180672",
        "colab": {
          "base_uri": "https://localhost:8080/"
        }
      },
      "execution_count": 22,
      "outputs": [
        {
          "output_type": "stream",
          "name": "stdout",
          "text": [
            "[[ 1  3]\n",
            " [-2  0]] \n",
            "\n",
            "[[ 6  0]\n",
            " [-1  2]]\n"
          ]
        }
      ]
    },
    {
      "cell_type": "code",
      "source": [
        "X*Y #zwykłe mnożenie"
      ],
      "metadata": {
        "id": "Azm57MwBMjGr",
        "outputId": "801ec23b-aa81-4340-b783-a925b5742820",
        "colab": {
          "base_uri": "https://localhost:8080/"
        }
      },
      "execution_count": 24,
      "outputs": [
        {
          "output_type": "execute_result",
          "data": {
            "text/plain": [
              "array([[6, 0],\n",
              "       [2, 0]])"
            ]
          },
          "metadata": {},
          "execution_count": 24
        }
      ]
    },
    {
      "cell_type": "code",
      "source": [
        "np.dot(X,Y) #mnożenie macierzowe wiersz*kolumna"
      ],
      "metadata": {
        "id": "1mKlWSKpMp0x",
        "outputId": "f5ea5968-dd51-4eb4-ff0f-b69bb5bad780",
        "colab": {
          "base_uri": "https://localhost:8080/"
        }
      },
      "execution_count": 25,
      "outputs": [
        {
          "output_type": "execute_result",
          "data": {
            "text/plain": [
              "array([[  3,   6],\n",
              "       [-12,   0]])"
            ]
          },
          "metadata": {},
          "execution_count": 25
        }
      ]
    },
    {
      "cell_type": "code",
      "source": [
        "X.dot(Y) #inny zapis - używamy na macierzy X metody dot"
      ],
      "metadata": {
        "id": "eF9rc6MgM2IG",
        "outputId": "b1ae3d85-1a46-40a2-b67d-ba09d704a23b",
        "colab": {
          "base_uri": "https://localhost:8080/"
        }
      },
      "execution_count": 27,
      "outputs": [
        {
          "output_type": "execute_result",
          "data": {
            "text/plain": [
              "array([[  3,   6],\n",
              "       [-12,   0]])"
            ]
          },
          "metadata": {},
          "execution_count": 27
        }
      ]
    },
    {
      "cell_type": "code",
      "source": [
        "X@Y #też mnożenie"
      ],
      "metadata": {
        "id": "mF4D5G1TNBHJ",
        "outputId": "029a1e15-d868-4d3f-82c8-f9e69590f7f6",
        "colab": {
          "base_uri": "https://localhost:8080/"
        }
      },
      "execution_count": 26,
      "outputs": [
        {
          "output_type": "execute_result",
          "data": {
            "text/plain": [
              "array([[  3,   6],\n",
              "       [-12,   0]])"
            ]
          },
          "metadata": {},
          "execution_count": 26
        }
      ]
    },
    {
      "cell_type": "markdown",
      "source": [
        "Tworzenie tablic"
      ],
      "metadata": {
        "id": "CAr9vSOJ-Ggg"
      }
    },
    {
      "cell_type": "markdown",
      "source": [
        "## Generowanie liczb pseudolosowych"
      ],
      "metadata": {
        "id": "EEEpXJZhNcPj"
      }
    },
    {
      "cell_type": "markdown",
      "source": [],
      "metadata": {
        "id": "ieOABCUf7KwG"
      }
    },
    {
      "cell_type": "code",
      "source": [
        "np.random.seed(0)"
      ],
      "metadata": {
        "id": "RZJKOBLNNfw-"
      },
      "execution_count": 28,
      "outputs": []
    },
    {
      "cell_type": "code",
      "source": [
        "np.random.randn(10)#z rozkładu normalnego"
      ],
      "metadata": {
        "id": "O5lFZhqrNmO-",
        "outputId": "657bbea1-2236-4735-f737-af3e8d06bb09",
        "colab": {
          "base_uri": "https://localhost:8080/"
        }
      },
      "execution_count": 29,
      "outputs": [
        {
          "output_type": "execute_result",
          "data": {
            "text/plain": [
              "array([ 1.76405235,  0.40015721,  0.97873798,  2.2408932 ,  1.86755799,\n",
              "       -0.97727788,  0.95008842, -0.15135721, -0.10321885,  0.4105985 ])"
            ]
          },
          "metadata": {},
          "execution_count": 29
        }
      ]
    },
    {
      "cell_type": "code",
      "source": [
        "np.random.rand(10)#rozkład jednostajny [0,1)]"
      ],
      "metadata": {
        "colab": {
          "base_uri": "https://localhost:8080/"
        },
        "id": "xZN5NynYNrhx",
        "outputId": "2993cfec-f1cb-48fd-8323-8af92ae76b36"
      },
      "execution_count": 30,
      "outputs": [
        {
          "output_type": "execute_result",
          "data": {
            "text/plain": [
              "array([0.79172504, 0.52889492, 0.56804456, 0.92559664, 0.07103606,\n",
              "       0.0871293 , 0.0202184 , 0.83261985, 0.77815675, 0.87001215])"
            ]
          },
          "metadata": {},
          "execution_count": 30
        }
      ]
    },
    {
      "cell_type": "code",
      "source": [],
      "metadata": {
        "id": "DRBdRA5kN6UJ"
      },
      "execution_count": null,
      "outputs": []
    },
    {
      "cell_type": "code",
      "source": [
        "np.random.rand(10,2)#rozkład jednostajny [0,1)]"
      ],
      "metadata": {
        "outputId": "bccb8c34-62f7-4b95-cdab-0f644be7cd97",
        "colab": {
          "base_uri": "https://localhost:8080/"
        },
        "id": "MdQ738-BN6ke"
      },
      "execution_count": 31,
      "outputs": [
        {
          "output_type": "execute_result",
          "data": {
            "text/plain": [
              "array([[0.97861834, 0.79915856],\n",
              "       [0.46147936, 0.78052918],\n",
              "       [0.11827443, 0.63992102],\n",
              "       [0.14335329, 0.94466892],\n",
              "       [0.52184832, 0.41466194],\n",
              "       [0.26455561, 0.77423369],\n",
              "       [0.45615033, 0.56843395],\n",
              "       [0.0187898 , 0.6176355 ],\n",
              "       [0.61209572, 0.616934  ],\n",
              "       [0.94374808, 0.6818203 ]])"
            ]
          },
          "metadata": {},
          "execution_count": 31
        }
      ]
    }
  ]
}